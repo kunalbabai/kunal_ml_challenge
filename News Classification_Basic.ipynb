{
 "cells": [
  {
   "cell_type": "code",
   "execution_count": 1,
   "id": "72ca4b2b",
   "metadata": {},
   "outputs": [
    {
     "data": {
      "application/javascript": [
       "\n",
       "        if (window._pyforest_update_imports_cell) { window._pyforest_update_imports_cell('import pandas as pd'); }\n",
       "    "
      ],
      "text/plain": [
       "<IPython.core.display.Javascript object>"
      ]
     },
     "metadata": {},
     "output_type": "display_data"
    },
    {
     "name": "stdout",
     "output_type": "stream",
     "text": [
      "   category filename                              title                                            content\n",
      "0  business  001.txt  Ad sales boost Time Warner profit   Quarterly profits at US media giant TimeWarne...\n",
      "1  business  002.txt   Dollar gains on Greenspan speech   The dollar has hit its highest level against ...\n",
      "2  business  003.txt  Yukos unit buyer faces loan claim   The owners of embattled Russian oil giant Yuk...\n",
      "3  business  004.txt  High fuel prices hit BA's profits   British Airways has blamed high fuel prices f...\n",
      "4  business  005.txt  Pernod takeover talk lifts Domecq   Shares in UK drinks and food firm Allied Dome...\n"
     ]
    }
   ],
   "source": [
    "data = pd.read_csv(\"https://raw.githubusercontent.com/amankharwal/Website-data/master/bbc-news-data.csv\", sep='\\t')\n",
    "print(data.head())"
   ]
  },
  {
   "cell_type": "code",
   "execution_count": 2,
   "id": "22a44eeb",
   "metadata": {},
   "outputs": [
    {
     "data": {
      "text/plain": [
       "category    0\n",
       "filename    0\n",
       "title       0\n",
       "content     0\n",
       "dtype: int64"
      ]
     },
     "execution_count": 2,
     "metadata": {},
     "output_type": "execute_result"
    }
   ],
   "source": [
    "data.isnull().sum()"
   ]
  },
  {
   "cell_type": "code",
   "execution_count": 4,
   "id": "45eba3af",
   "metadata": {},
   "outputs": [
    {
     "data": {
      "text/plain": [
       "category    object\n",
       "filename    object\n",
       "title       object\n",
       "content     object\n",
       "dtype: object"
      ]
     },
     "execution_count": 4,
     "metadata": {},
     "output_type": "execute_result"
    }
   ],
   "source": [
    "data.dtypes"
   ]
  },
  {
   "cell_type": "code",
   "execution_count": 5,
   "id": "35d6d15c",
   "metadata": {},
   "outputs": [
    {
     "data": {
      "text/plain": [
       "Index(['category', 'filename', 'title', 'content'], dtype='object')"
      ]
     },
     "execution_count": 5,
     "metadata": {},
     "output_type": "execute_result"
    }
   ],
   "source": [
    "data.columns"
   ]
  },
  {
   "cell_type": "code",
   "execution_count": 7,
   "id": "f8e98622",
   "metadata": {},
   "outputs": [
    {
     "data": {
      "text/plain": [
       "sport            511\n",
       "business         510\n",
       "politics         417\n",
       "tech             401\n",
       "entertainment    386\n",
       "Name: category, dtype: int64"
      ]
     },
     "execution_count": 7,
     "metadata": {},
     "output_type": "execute_result"
    }
   ],
   "source": [
    "data.category.value_counts()"
   ]
  },
  {
   "cell_type": "code",
   "execution_count": 8,
   "id": "a680eadd",
   "metadata": {},
   "outputs": [],
   "source": [
    "from sklearn.feature_extraction.text import CountVectorizer\n",
    "from sklearn.model_selection import train_test_split\n",
    "from sklearn.naive_bayes import MultinomialNB"
   ]
  },
  {
   "cell_type": "markdown",
   "id": "aa7182fd",
   "metadata": {},
   "source": [
    "now we are prepearing the mode so that we need to convert categorize varible to numeric / vector\n",
    "so that we are using Bag of Word Technique (Count Vectorize) If you want to know more about count vectorize the see thhus link - https://www.youtube.com/watch?v=IKgBLTeQQL8 & https://www.youtube.com/watch?v=lBO1L8pgR9s & next we are using the Naive Bayes Classification Algorithm"
   ]
  },
  {
   "cell_type": "code",
   "execution_count": 9,
   "id": "4d1a9151",
   "metadata": {},
   "outputs": [
    {
     "data": {
      "application/javascript": [
       "\n",
       "        if (window._pyforest_update_imports_cell) { window._pyforest_update_imports_cell('import numpy as np\\nimport pandas as pd'); }\n",
       "    "
      ],
      "text/plain": [
       "<IPython.core.display.Javascript object>"
      ]
     },
     "metadata": {},
     "output_type": "display_data"
    },
    {
     "data": {
      "application/javascript": [
       "\n",
       "        if (window._pyforest_update_imports_cell) { window._pyforest_update_imports_cell('import numpy as np\\nimport pandas as pd'); }\n",
       "    "
      ],
      "text/plain": [
       "<IPython.core.display.Javascript object>"
      ]
     },
     "metadata": {},
     "output_type": "display_data"
    }
   ],
   "source": [
    "#here we go\n",
    "#based on title this news belong to which category so that we are creating one datset that belong two categories\n",
    "data_Update = data[[\"title\", \"category\"]]\n",
    "#converting train & test \n",
    "x = np.array(data[\"title\"])\n",
    "y = np.array(data[\"category\"])\n",
    "\n",
    "cv = CountVectorizer()\n",
    "X = cv.fit_transform(x)\n",
    "X_train, X_test, y_train, y_test = train_test_split(X, y, test_size=0.33, random_state=42)"
   ]
  },
  {
   "cell_type": "code",
   "execution_count": 12,
   "id": "cae78ac3",
   "metadata": {},
   "outputs": [
    {
     "data": {
      "text/plain": [
       "array([[0, 0, 0, ..., 0, 0, 0],\n",
       "       [0, 0, 0, ..., 0, 0, 0],\n",
       "       [0, 0, 0, ..., 0, 0, 0],\n",
       "       ...,\n",
       "       [0, 0, 0, ..., 0, 0, 0],\n",
       "       [0, 0, 0, ..., 0, 0, 0],\n",
       "       [0, 0, 0, ..., 0, 0, 0]], dtype=int64)"
      ]
     },
     "execution_count": 12,
     "metadata": {},
     "output_type": "execute_result"
    }
   ],
   "source": [
    "#to see the summarize Vectore -\n",
    "X.toarray()"
   ]
  },
  {
   "cell_type": "code",
   "execution_count": 13,
   "id": "b1c0894a",
   "metadata": {},
   "outputs": [],
   "source": [
    "#now creating the Naive Bayes Model here we go-----"
   ]
  },
  {
   "cell_type": "code",
   "execution_count": 14,
   "id": "85948b39",
   "metadata": {},
   "outputs": [],
   "source": [
    "nv_bayes = MultinomialNB()"
   ]
  },
  {
   "cell_type": "code",
   "execution_count": 15,
   "id": "3ef1b1d6",
   "metadata": {},
   "outputs": [
    {
     "data": {
      "text/plain": [
       "MultinomialNB()"
      ]
     },
     "execution_count": 15,
     "metadata": {},
     "output_type": "execute_result"
    }
   ],
   "source": [
    "nv_bayes.fit(X_train,y_train)"
   ]
  },
  {
   "cell_type": "code",
   "execution_count": 16,
   "id": "26b77754",
   "metadata": {},
   "outputs": [],
   "source": [
    "#lets try some thing "
   ]
  },
  {
   "cell_type": "code",
   "execution_count": 20,
   "id": "46c08a06",
   "metadata": {},
   "outputs": [
    {
     "name": "stdout",
     "output_type": "stream",
     "text": [
      "Enter a Text: indian fuel prices hit the record amount of rise in past two day's\n",
      "['business']\n"
     ]
    }
   ],
   "source": [
    "user = input(\"Enter a Text: \")\n",
    "data = cv.transform([user]).toarray()\n",
    "output = nv_bayes.predict(data)\n",
    "print(output)"
   ]
  },
  {
   "cell_type": "code",
   "execution_count": 21,
   "id": "b1fe1154",
   "metadata": {},
   "outputs": [
    {
     "data": {
      "text/plain": [
       "array(['business', 'business', 'sport', 'business', 'politics', 'sport',\n",
       "       'sport', 'business', 'sport', 'politics', 'business',\n",
       "       'entertainment', 'sport', 'business', 'entertainment', 'sport',\n",
       "       'tech', 'entertainment', 'business', 'politics', 'business',\n",
       "       'sport', 'business', 'entertainment', 'business', 'tech',\n",
       "       'entertainment', 'business', 'politics', 'entertainment', 'sport',\n",
       "       'politics', 'tech', 'entertainment', 'business', 'business',\n",
       "       'business', 'sport', 'tech', 'sport', 'tech', 'politics',\n",
       "       'business', 'sport', 'politics', 'tech', 'tech', 'business',\n",
       "       'business', 'tech', 'entertainment', 'business', 'politics',\n",
       "       'business', 'entertainment', 'politics', 'politics', 'politics',\n",
       "       'business', 'politics', 'business', 'tech', 'entertainment',\n",
       "       'politics', 'sport', 'entertainment', 'business', 'business',\n",
       "       'politics', 'sport', 'politics', 'politics', 'tech', 'sport',\n",
       "       'politics', 'sport', 'sport', 'entertainment', 'business',\n",
       "       'business', 'sport', 'sport', 'sport', 'entertainment',\n",
       "       'entertainment', 'sport', 'sport', 'sport', 'entertainment',\n",
       "       'sport', 'sport', 'business', 'politics', 'business', 'sport',\n",
       "       'business', 'business', 'business', 'sport', 'business',\n",
       "       'business', 'politics', 'entertainment', 'business', 'sport',\n",
       "       'politics', 'sport', 'tech', 'entertainment', 'politics',\n",
       "       'business', 'tech', 'entertainment', 'business', 'politics',\n",
       "       'sport', 'entertainment', 'entertainment', 'entertainment',\n",
       "       'sport', 'sport', 'sport', 'business', 'politics', 'tech',\n",
       "       'entertainment', 'sport', 'entertainment', 'business',\n",
       "       'entertainment', 'sport', 'entertainment', 'entertainment',\n",
       "       'sport', 'tech', 'politics', 'business', 'business',\n",
       "       'entertainment', 'tech', 'tech', 'business', 'politics',\n",
       "       'business', 'tech', 'entertainment', 'tech', 'business',\n",
       "       'business', 'politics', 'sport', 'entertainment', 'business',\n",
       "       'tech', 'politics', 'sport', 'sport', 'entertainment', 'sport',\n",
       "       'entertainment', 'business', 'entertainment', 'business',\n",
       "       'entertainment', 'politics', 'politics', 'business', 'tech',\n",
       "       'tech', 'entertainment', 'politics', 'sport', 'tech',\n",
       "       'entertainment', 'sport', 'tech', 'politics', 'politics',\n",
       "       'business', 'sport', 'politics', 'sport', 'business', 'politics',\n",
       "       'tech', 'sport', 'entertainment', 'sport', 'business', 'business',\n",
       "       'business', 'sport', 'entertainment', 'tech', 'tech', 'tech',\n",
       "       'politics', 'politics', 'sport', 'tech', 'sport', 'entertainment',\n",
       "       'business', 'entertainment', 'business', 'politics', 'sport',\n",
       "       'politics', 'sport', 'sport', 'sport', 'business', 'tech',\n",
       "       'entertainment', 'tech', 'politics', 'tech', 'business',\n",
       "       'business', 'tech', 'business', 'business', 'politics',\n",
       "       'entertainment', 'politics', 'politics', 'politics', 'politics',\n",
       "       'business', 'entertainment', 'tech', 'sport', 'sport', 'politics',\n",
       "       'tech', 'entertainment', 'entertainment', 'business', 'tech',\n",
       "       'tech', 'sport', 'business', 'politics', 'sport', 'business',\n",
       "       'business', 'business', 'business', 'sport', 'business',\n",
       "       'politics', 'sport', 'tech', 'business', 'entertainment', 'sport',\n",
       "       'entertainment', 'sport', 'sport', 'sport', 'politics', 'tech',\n",
       "       'business', 'entertainment', 'sport', 'tech', 'tech', 'sport',\n",
       "       'business', 'sport', 'sport', 'business', 'business',\n",
       "       'entertainment', 'business', 'sport', 'business', 'politics',\n",
       "       'tech', 'business', 'business', 'tech', 'business', 'business',\n",
       "       'politics', 'business', 'politics', 'politics', 'business', 'tech',\n",
       "       'business', 'entertainment', 'business', 'entertainment',\n",
       "       'politics', 'business', 'business', 'business', 'business', 'tech',\n",
       "       'sport', 'politics', 'tech', 'politics', 'sport', 'entertainment',\n",
       "       'business', 'politics', 'tech', 'politics', 'sport', 'business',\n",
       "       'politics', 'tech', 'business', 'tech', 'politics', 'business',\n",
       "       'sport', 'sport', 'politics', 'tech', 'tech', 'business',\n",
       "       'entertainment', 'business', 'business', 'tech', 'sport',\n",
       "       'politics', 'politics', 'business', 'sport', 'business',\n",
       "       'entertainment', 'politics', 'politics', 'politics', 'sport',\n",
       "       'sport', 'business', 'sport', 'business', 'business',\n",
       "       'entertainment', 'business', 'sport', 'entertainment', 'sport',\n",
       "       'tech', 'tech', 'tech', 'entertainment', 'entertainment',\n",
       "       'politics', 'politics', 'entertainment', 'sport', 'tech', 'tech',\n",
       "       'politics', 'sport', 'politics', 'sport', 'sport', 'tech',\n",
       "       'business', 'politics', 'business', 'business', 'tech', 'sport',\n",
       "       'tech', 'business', 'politics', 'business', 'politics', 'business',\n",
       "       'sport', 'business', 'politics', 'business', 'entertainment',\n",
       "       'business', 'business', 'sport', 'business', 'tech', 'business',\n",
       "       'sport', 'politics', 'tech', 'sport', 'sport', 'business',\n",
       "       'entertainment', 'entertainment', 'sport', 'politics', 'business',\n",
       "       'tech', 'sport', 'entertainment', 'tech', 'politics', 'sport',\n",
       "       'business', 'business', 'tech', 'tech', 'tech', 'sport', 'tech',\n",
       "       'sport', 'sport', 'sport', 'sport', 'politics', 'tech', 'politics',\n",
       "       'politics', 'politics', 'business', 'politics', 'tech', 'tech',\n",
       "       'entertainment', 'politics', 'politics', 'business', 'sport',\n",
       "       'sport', 'sport', 'tech', 'sport', 'tech', 'tech', 'sport',\n",
       "       'sport', 'politics', 'entertainment', 'business', 'politics',\n",
       "       'entertainment', 'sport', 'sport', 'business', 'sport', 'sport',\n",
       "       'entertainment', 'business', 'business', 'business',\n",
       "       'entertainment', 'politics', 'politics', 'politics', 'business',\n",
       "       'business', 'tech', 'tech', 'politics', 'business', 'sport',\n",
       "       'sport', 'tech', 'business', 'business', 'sport', 'tech', 'sport',\n",
       "       'sport', 'sport', 'tech', 'politics', 'entertainment', 'business',\n",
       "       'sport', 'sport', 'tech', 'entertainment', 'sport', 'sport',\n",
       "       'politics', 'tech', 'tech', 'business', 'politics',\n",
       "       'entertainment', 'politics', 'entertainment', 'sport', 'business',\n",
       "       'politics', 'entertainment', 'sport', 'tech', 'sport', 'tech',\n",
       "       'sport', 'politics', 'entertainment', 'politics', 'business',\n",
       "       'tech', 'business', 'business', 'business', 'entertainment',\n",
       "       'tech', 'entertainment', 'sport', 'tech', 'business', 'politics',\n",
       "       'politics', 'sport', 'tech', 'entertainment', 'entertainment',\n",
       "       'entertainment', 'entertainment', 'business', 'business', 'tech',\n",
       "       'entertainment', 'sport', 'business', 'tech', 'sport', 'sport',\n",
       "       'politics', 'business', 'business', 'politics', 'tech', 'tech',\n",
       "       'politics', 'politics', 'tech', 'sport', 'entertainment', 'tech',\n",
       "       'business', 'tech', 'politics', 'entertainment', 'business',\n",
       "       'business', 'business', 'tech', 'politics', 'entertainment',\n",
       "       'politics', 'politics', 'sport', 'entertainment', 'business',\n",
       "       'politics', 'sport', 'sport', 'politics', 'sport', 'business',\n",
       "       'tech', 'entertainment', 'business', 'sport', 'sport', 'tech',\n",
       "       'politics', 'sport', 'business', 'politics', 'business',\n",
       "       'politics', 'entertainment', 'business', 'tech', 'sport',\n",
       "       'politics', 'politics', 'tech', 'entertainment', 'politics',\n",
       "       'business', 'entertainment', 'sport', 'tech', 'sport', 'business',\n",
       "       'politics', 'politics', 'tech', 'tech', 'business', 'business',\n",
       "       'politics', 'entertainment', 'business', 'sport', 'entertainment',\n",
       "       'politics', 'sport', 'entertainment', 'politics', 'tech', 'tech',\n",
       "       'tech', 'politics', 'sport', 'sport', 'business', 'entertainment',\n",
       "       'tech', 'politics', 'tech', 'tech', 'sport', 'sport', 'politics',\n",
       "       'politics', 'entertainment', 'business', 'business',\n",
       "       'entertainment', 'tech', 'business', 'business', 'tech',\n",
       "       'business', 'sport', 'business', 'politics', 'tech',\n",
       "       'entertainment', 'politics', 'sport', 'tech', 'politics', 'tech',\n",
       "       'entertainment', 'politics', 'entertainment', 'tech',\n",
       "       'entertainment', 'entertainment', 'tech', 'tech', 'tech',\n",
       "       'entertainment', 'tech', 'politics', 'politics', 'politics',\n",
       "       'politics', 'entertainment', 'politics', 'entertainment', 'sport',\n",
       "       'politics', 'sport', 'entertainment', 'politics', 'tech',\n",
       "       'entertainment', 'entertainment', 'tech', 'sport', 'sport',\n",
       "       'sport', 'politics', 'entertainment', 'business', 'sport', 'tech',\n",
       "       'business', 'entertainment', 'politics', 'business', 'business',\n",
       "       'business', 'entertainment', 'politics', 'tech', 'sport',\n",
       "       'entertainment', 'politics', 'tech', 'tech', 'business',\n",
       "       'politics', 'business', 'politics', 'entertainment', 'sport',\n",
       "       'business', 'sport', 'politics', 'business', 'politics',\n",
       "       'business', 'business', 'sport', 'entertainment', 'entertainment',\n",
       "       'sport', 'sport', 'entertainment', 'entertainment', 'business',\n",
       "       'business', 'business', 'business', 'business', 'tech', 'sport',\n",
       "       'business', 'tech', 'entertainment', 'business', 'tech', 'tech',\n",
       "       'tech', 'entertainment', 'sport', 'sport', 'politics',\n",
       "       'entertainment', 'sport', 'sport', 'sport', 'politics', 'business',\n",
       "       'sport'], dtype='<U13')"
      ]
     },
     "execution_count": 21,
     "metadata": {},
     "output_type": "execute_result"
    }
   ],
   "source": [
    "nv_bayes.predict(X_test)"
   ]
  },
  {
   "cell_type": "code",
   "execution_count": null,
   "id": "b91f2910",
   "metadata": {},
   "outputs": [],
   "source": []
  }
 ],
 "metadata": {
  "kernelspec": {
   "display_name": "Python 3",
   "language": "python",
   "name": "python3"
  },
  "language_info": {
   "codemirror_mode": {
    "name": "ipython",
    "version": 3
   },
   "file_extension": ".py",
   "mimetype": "text/x-python",
   "name": "python",
   "nbconvert_exporter": "python",
   "pygments_lexer": "ipython3",
   "version": "3.7.11"
  },
  "toc": {
   "base_numbering": 1,
   "nav_menu": {},
   "number_sections": true,
   "sideBar": true,
   "skip_h1_title": false,
   "title_cell": "Table of Contents",
   "title_sidebar": "Contents",
   "toc_cell": false,
   "toc_position": {},
   "toc_section_display": true,
   "toc_window_display": false
  }
 },
 "nbformat": 4,
 "nbformat_minor": 5
}
